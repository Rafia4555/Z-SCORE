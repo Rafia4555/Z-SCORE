{
  "nbformat": 4,
  "nbformat_minor": 0,
  "metadata": {
    "colab": {
      "name": "Z SCORE.ipynb",
      "provenance": []
    },
    "kernelspec": {
      "name": "python3",
      "display_name": "Python 3"
    },
    "language_info": {
      "name": "python"
    }
  },
  "cells": [
    {
      "cell_type": "code",
      "execution_count": 1,
      "metadata": {
        "id": "YuRw20Oc1VWx"
      },
      "outputs": [],
      "source": [
        "import pandas as pd\n",
        "import numpy as np\n",
        "import scipy.stats as stats"
      ]
    },
    {
      "cell_type": "markdown",
      "source": [
        "**Step 1: import modules**"
      ],
      "metadata": {
        "id": "tItWwS8J2b3s"
      }
    },
    {
      "cell_type": "markdown",
      "source": [
        "**Step 2: Create an array of values**"
      ],
      "metadata": {
        "id": "Kp62d7Ik2nzS"
      }
    },
    {
      "cell_type": "code",
      "source": [
        "data = np.array([6,7,7,12,13,13,15,16,19,22])"
      ],
      "metadata": {
        "id": "h0b4aumA2wu6"
      },
      "execution_count": 2,
      "outputs": []
    },
    {
      "cell_type": "markdown",
      "source": [
        "**Step 3 : Calculate the z-score for each value in the array**"
      ],
      "metadata": {
        "id": "oYYLHHWP2-xj"
      }
    },
    {
      "cell_type": "code",
      "source": [
        "stats.zscore(data)"
      ],
      "metadata": {
        "colab": {
          "base_uri": "https://localhost:8080/"
        },
        "id": "Kcn_z-IH3LAy",
        "outputId": "7b76ade5-f880-4871-e916-6050a49d2064"
      },
      "execution_count": 3,
      "outputs": [
        {
          "output_type": "execute_result",
          "data": {
            "text/plain": [
              "array([-1.39443338, -1.19522861, -1.19522861, -0.19920477,  0.        ,\n",
              "        0.        ,  0.39840954,  0.5976143 ,  1.19522861,  1.79284291])"
            ]
          },
          "metadata": {},
          "execution_count": 3
        }
      ]
    },
    {
      "cell_type": "markdown",
      "source": [
        "*Each z-score tells us how many standard deviations away an inviduals value is from the mean.For example:**\n",
        "The first value\"6\" in the array is 1.394 standard below the mean.The fifth value of\"13\" in the array is 0 standard deviation away from the mean,i.e.it is equal to the mean . \n",
        "# The last value of\"22\" in the array is1.793standard deviation above the mean."
      ],
      "metadata": {
        "id": "xOyE6q543r96"
      }
    },
    {
      "cell_type": "markdown",
      "source": [
        "***Z-score normalization refers to the process of normalizing every value in a dataset such that the mean of all of the values is 0 and the standard deviation is 1.***"
      ],
      "metadata": {
        "id": "R8NMshKt6Gv3"
      }
    }
  ]
}